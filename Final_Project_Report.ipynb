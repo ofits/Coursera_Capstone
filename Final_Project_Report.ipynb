{
 "cells": [
  {
   "cell_type": "markdown",
   "metadata": {},
   "source": [
    "# Final Project Report\n",
    "# City Heatmaps for Tourists *(with Moscow city as an example application)*"
   ]
  },
  {
   "cell_type": "markdown",
   "metadata": {},
   "source": [
    "## 1. Introduction/Business Problem"
   ]
  },
  {
   "cell_type": "markdown",
   "metadata": {},
   "source": [
    "**Problem** Identify and clearly show the areas (zones) in the city that could be of interest to foreign visitors of the city\n",
    "(from the stand point of sightseeing or finding a place to eat, etc.)\n",
    "\n",
    "**Audience**: Tourists and foreigners in the city that are interested in getting to know the city and finding the areas of interest (sights/cafes, etc.)\n",
    "\n",
    "**Why?** Tourists could have limited time and they sometimes want a choice of good restaurants that would be all located in the vicinity of the same area so that one does not have to move orr travel too much, but have a rich choice of options. In addition, tourist could be interested in seeing many sights at once, so highlighting zones of the city where there are many of them concentrated is beneficial for tourists if they have limited time to travel too much.\n",
    "\n",
    "**Outcome** The result of the project is a system that draws a heatmap over the map of the city, highlighting the areas that would be of high importance for the tourist, taking into accound the demand: sightseeing or going out for food, given that she has limited time, thus, identifying highly concentrated zones with sights or with restaurants. The target audience customer is expected to use it to make the visit to the city more effective and less time/travel consuming."
   ]
  },
  {
   "cell_type": "markdown",
   "metadata": {},
   "source": [
    "## 2. Data "
   ]
  },
  {
   "cell_type": "markdown",
   "metadata": {},
   "source": [
    "The only data that would be used in the project is **Foursquare location data**. It is absolutely suitable in terms of solving the stated business problem since the data contains the information about the main venues/places of interest. \n",
    "The data will be exploited in the following way: first, venues in the vicinity of various individual points around the city will be fetched. Then, the data will be uvery useful in extracting the categories of fetched venues and, therefore, would assist in labeling the zone as suitable or not in terms of tourists' demands. \n",
    "\n",
    "**API** would be used in the following work in order to execute the requests to the data.\n",
    "\n",
    "**Assumption:** We deem Foursquare location data as a reliable and extensive source of venues and places of interest in the desired city of choice"
   ]
  }
 ],
 "metadata": {
  "kernelspec": {
   "display_name": "Python 3",
   "language": "python",
   "name": "python3"
  },
  "language_info": {
   "codemirror_mode": {
    "name": "ipython",
    "version": 3
   },
   "file_extension": ".py",
   "mimetype": "text/x-python",
   "name": "python",
   "nbconvert_exporter": "python",
   "pygments_lexer": "ipython3",
   "version": "3.6.5"
  }
 },
 "nbformat": 4,
 "nbformat_minor": 2
}
